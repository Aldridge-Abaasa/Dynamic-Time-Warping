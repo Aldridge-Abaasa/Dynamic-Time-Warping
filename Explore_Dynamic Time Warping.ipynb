{
 "cells": [
  {
   "cell_type": "markdown",
   "id": "a9f1467e",
   "metadata": {},
   "source": [
    "# Basic DTW Code\n",
    "Code from https://towardsdatascience.com/dynamic-time-warping-3933f25fcdd  \n",
    "This code implements a simple DTW measure between two series represented as lists.  \n",
    "It allows for series of different lengths and has a `window` parameter that determines the amount of warping allowed.  \n",
    "For series of different lengths, the minimum warping will be the difference in the lengths.  "
   ]
  },
  {
   "cell_type": "code",
   "execution_count": 1,
   "id": "43d7401b",
   "metadata": {},
   "outputs": [],
   "source": [
    "import numpy as np"
   ]
  },
  {
   "cell_type": "code",
   "execution_count": 2,
   "id": "73329be2",
   "metadata": {},
   "outputs": [],
   "source": [
    "def dtw(s, t, window):\n",
    "    n, m = len(s), len(t)\n",
    "    w = np.max([window, abs(n-m)]) # warping cannot be less than the difference in lengths. \n",
    "    dtw_matrix = np.zeros((n+1, m+1))\n",
    "    \n",
    "    for i in range(n+1):\n",
    "        for j in range(m+1):\n",
    "            dtw_matrix[i, j] = np.inf\n",
    "    dtw_matrix[0, 0] = 0\n",
    "    \n",
    "    for i in range(1, n+1):\n",
    "        for j in range(np.max([1, i-w]), np.min([m, i+w])+1):\n",
    "            dtw_matrix[i, j] = 0\n",
    "    \n",
    "    for i in range(1, n+1):\n",
    "        for j in range(np.max([1, i-w]), np.min([m, i+w])+1):\n",
    "            cost = abs(s[i-1] - t[j-1])\n",
    "            # take last min from a square box\n",
    "            last_min = np.min([dtw_matrix[i-1, j], dtw_matrix[i, j-1], dtw_matrix[i-1, j-1]])\n",
    "            dtw_matrix[i, j] = cost + last_min\n",
    "    return dtw_matrix[-1,-1]"
   ]
  },
  {
   "cell_type": "code",
   "execution_count": 3,
   "id": "361b8066",
   "metadata": {},
   "outputs": [
    {
     "data": {
      "text/plain": [
       "3.0"
      ]
     },
     "execution_count": 3,
     "metadata": {},
     "output_type": "execute_result"
    }
   ],
   "source": [
    "a = [1,2,3,3,5]\n",
    "b = [1,2,2,2,2,2,2,4]\n",
    "dtw(a,b, window = 3)"
   ]
  },
  {
   "cell_type": "code",
   "execution_count": 4,
   "id": "908866ea",
   "metadata": {},
   "outputs": [],
   "source": [
    "x1 = [7,7,8,9,10,10,7,4,2,1,2,4,7,11,10,9,7]\n",
    "x2 = [7,8,10,10,8,7,3,2,2,4,6,12,12,9,7,7]"
   ]
  },
  {
   "cell_type": "code",
   "execution_count": 5,
   "id": "11b74182",
   "metadata": {},
   "outputs": [
    {
     "data": {
      "text/plain": [
       "18.0"
      ]
     },
     "execution_count": 5,
     "metadata": {},
     "output_type": "execute_result"
    }
   ],
   "source": [
    "dtw_0 = dtw(x1,x2,window = 1)\n",
    "dtw_0"
   ]
  },
  {
   "cell_type": "markdown",
   "id": "cb8ec5b9",
   "metadata": {},
   "source": [
    "Works also for numpy arrays."
   ]
  },
  {
   "cell_type": "code",
   "execution_count": 6,
   "id": "c76a91f1",
   "metadata": {},
   "outputs": [],
   "source": [
    "x = np.array([[7,7,8,9,10,10,7,4,2,1,2,4,7,11,10,9,7],\n",
    "                [7,8,10,10,8,7,3,2,2,4,6,12,12,9,7,7,8]])"
   ]
  },
  {
   "cell_type": "code",
   "execution_count": 7,
   "id": "5094a0a5",
   "metadata": {},
   "outputs": [
    {
     "data": {
      "text/plain": [
       "array([ 7,  7,  8,  9, 10, 10,  7,  4,  2,  1,  2,  4,  7, 11, 10,  9,  7])"
      ]
     },
     "execution_count": 7,
     "metadata": {},
     "output_type": "execute_result"
    }
   ],
   "source": [
    "x[0]"
   ]
  },
  {
   "cell_type": "code",
   "execution_count": 8,
   "id": "e2db454b",
   "metadata": {},
   "outputs": [
    {
     "name": "stdout",
     "output_type": "stream",
     "text": [
      "0 43.0\n",
      "1 19.0\n",
      "2 9.0\n",
      "3 9.0\n",
      "4 9.0\n",
      "5 9.0\n",
      "6 9.0\n",
      "7 9.0\n",
      "8 9.0\n",
      "9 9.0\n"
     ]
    }
   ],
   "source": [
    "for w in range(10):\n",
    "    dtw_n = dtw(x[0],x[1],window = w)\n",
    "    print(w, dtw_n)"
   ]
  },
  {
   "cell_type": "code",
   "execution_count": 9,
   "id": "8baba494",
   "metadata": {},
   "outputs": [],
   "source": [
    "import pandas as pd\n",
    "import pandas as pd\n",
    "from sklearn import preprocessing\n",
    "from sklearn.neighbors import NearestNeighbors\n",
    "from sklearn.neighbors import KNeighborsClassifier\n",
    "from sklearn.model_selection import train_test_split"
   ]
  },
  {
   "cell_type": "markdown",
   "id": "3488f3a0",
   "metadata": {},
   "source": [
    "#### Read the UMD_TEST.txt file using the seperator to remove white spaces. We have a shape file of (143, 151).\n",
    "#### 143 rows and 151 columns."
   ]
  },
  {
   "cell_type": "code",
   "execution_count": 10,
   "id": "c6a22d78",
   "metadata": {},
   "outputs": [
    {
     "data": {
      "text/plain": [
       "(143, 151)"
      ]
     },
     "execution_count": 10,
     "metadata": {},
     "output_type": "execute_result"
    }
   ],
   "source": [
    "# Define Dataset\n",
    "umd = pd.read_csv('UMD_TEST.txt',  sep = '\\s+')\n",
    "umd.shape"
   ]
  },
  {
   "cell_type": "code",
   "execution_count": 11,
   "id": "443ef657",
   "metadata": {},
   "outputs": [
    {
     "data": {
      "text/html": [
       "<div>\n",
       "<style scoped>\n",
       "    .dataframe tbody tr th:only-of-type {\n",
       "        vertical-align: middle;\n",
       "    }\n",
       "\n",
       "    .dataframe tbody tr th {\n",
       "        vertical-align: top;\n",
       "    }\n",
       "\n",
       "    .dataframe thead th {\n",
       "        text-align: right;\n",
       "    }\n",
       "</style>\n",
       "<table border=\"1\" class=\"dataframe\">\n",
       "  <thead>\n",
       "    <tr style=\"text-align: right;\">\n",
       "      <th></th>\n",
       "      <th>1.0000000e+00</th>\n",
       "      <th>1.7644459e-02</th>\n",
       "      <th>3.0949268e-02</th>\n",
       "      <th>5.0555110e-02</th>\n",
       "      <th>4.4484418e-02</th>\n",
       "      <th>5.3276844e-02</th>\n",
       "      <th>4.1576200e-02</th>\n",
       "      <th>3.0947384e-02</th>\n",
       "      <th>2.7085506e-02</th>\n",
       "      <th>1.3763773e-02</th>\n",
       "      <th>...</th>\n",
       "      <th>2.4574725e-02</th>\n",
       "      <th>3.3780034e-02</th>\n",
       "      <th>2.6588896e-02</th>\n",
       "      <th>1.3932152e-02</th>\n",
       "      <th>2.4928126e-02</th>\n",
       "      <th>2.2589026e-02</th>\n",
       "      <th>3.8248000e-02</th>\n",
       "      <th>4.9837783e-02</th>\n",
       "      <th>5.3419439e-02</th>\n",
       "      <th>4.0420371e-02</th>\n",
       "    </tr>\n",
       "  </thead>\n",
       "  <tbody>\n",
       "    <tr>\n",
       "      <th>0</th>\n",
       "      <td>1.0</td>\n",
       "      <td>0.041296</td>\n",
       "      <td>0.003551</td>\n",
       "      <td>0.027470</td>\n",
       "      <td>0.013158</td>\n",
       "      <td>0.009571</td>\n",
       "      <td>0.008074</td>\n",
       "      <td>0.043743</td>\n",
       "      <td>0.040592</td>\n",
       "      <td>0.012190</td>\n",
       "      <td>...</td>\n",
       "      <td>0.060539</td>\n",
       "      <td>0.046991</td>\n",
       "      <td>0.023586</td>\n",
       "      <td>0.001562</td>\n",
       "      <td>-0.002196</td>\n",
       "      <td>0.036730</td>\n",
       "      <td>0.039027</td>\n",
       "      <td>0.007754</td>\n",
       "      <td>0.004697</td>\n",
       "      <td>0.031440</td>\n",
       "    </tr>\n",
       "    <tr>\n",
       "      <th>1</th>\n",
       "      <td>1.0</td>\n",
       "      <td>-0.000720</td>\n",
       "      <td>0.013283</td>\n",
       "      <td>0.029450</td>\n",
       "      <td>0.045201</td>\n",
       "      <td>0.006317</td>\n",
       "      <td>0.018805</td>\n",
       "      <td>0.028901</td>\n",
       "      <td>0.013832</td>\n",
       "      <td>0.015240</td>\n",
       "      <td>...</td>\n",
       "      <td>0.016442</td>\n",
       "      <td>0.039508</td>\n",
       "      <td>0.015171</td>\n",
       "      <td>0.034708</td>\n",
       "      <td>0.010835</td>\n",
       "      <td>0.002942</td>\n",
       "      <td>0.006924</td>\n",
       "      <td>0.029502</td>\n",
       "      <td>0.040786</td>\n",
       "      <td>0.023144</td>\n",
       "    </tr>\n",
       "    <tr>\n",
       "      <th>2</th>\n",
       "      <td>1.0</td>\n",
       "      <td>0.005201</td>\n",
       "      <td>0.013363</td>\n",
       "      <td>0.025733</td>\n",
       "      <td>0.026653</td>\n",
       "      <td>0.038946</td>\n",
       "      <td>0.012494</td>\n",
       "      <td>0.028303</td>\n",
       "      <td>0.032011</td>\n",
       "      <td>0.009467</td>\n",
       "      <td>...</td>\n",
       "      <td>0.006383</td>\n",
       "      <td>0.037448</td>\n",
       "      <td>0.044335</td>\n",
       "      <td>0.011143</td>\n",
       "      <td>-0.003624</td>\n",
       "      <td>0.001467</td>\n",
       "      <td>0.020991</td>\n",
       "      <td>0.027675</td>\n",
       "      <td>0.001621</td>\n",
       "      <td>0.015858</td>\n",
       "    </tr>\n",
       "    <tr>\n",
       "      <th>3</th>\n",
       "      <td>1.0</td>\n",
       "      <td>0.022926</td>\n",
       "      <td>0.027036</td>\n",
       "      <td>0.011668</td>\n",
       "      <td>0.019500</td>\n",
       "      <td>0.036049</td>\n",
       "      <td>-0.001297</td>\n",
       "      <td>0.019717</td>\n",
       "      <td>0.039583</td>\n",
       "      <td>0.020628</td>\n",
       "      <td>...</td>\n",
       "      <td>0.026997</td>\n",
       "      <td>0.036653</td>\n",
       "      <td>0.018117</td>\n",
       "      <td>0.018314</td>\n",
       "      <td>0.012536</td>\n",
       "      <td>0.040599</td>\n",
       "      <td>0.016590</td>\n",
       "      <td>0.032730</td>\n",
       "      <td>0.002498</td>\n",
       "      <td>0.011260</td>\n",
       "    </tr>\n",
       "    <tr>\n",
       "      <th>4</th>\n",
       "      <td>1.0</td>\n",
       "      <td>0.004897</td>\n",
       "      <td>0.016985</td>\n",
       "      <td>0.003485</td>\n",
       "      <td>0.006491</td>\n",
       "      <td>0.028674</td>\n",
       "      <td>0.005622</td>\n",
       "      <td>0.006906</td>\n",
       "      <td>0.011857</td>\n",
       "      <td>0.022167</td>\n",
       "      <td>...</td>\n",
       "      <td>0.041374</td>\n",
       "      <td>0.030726</td>\n",
       "      <td>0.042439</td>\n",
       "      <td>0.013007</td>\n",
       "      <td>0.034942</td>\n",
       "      <td>0.026134</td>\n",
       "      <td>0.037174</td>\n",
       "      <td>0.025711</td>\n",
       "      <td>0.034479</td>\n",
       "      <td>0.028682</td>\n",
       "    </tr>\n",
       "  </tbody>\n",
       "</table>\n",
       "<p>5 rows × 151 columns</p>\n",
       "</div>"
      ],
      "text/plain": [
       "   1.0000000e+00  1.7644459e-02  3.0949268e-02  5.0555110e-02  4.4484418e-02  \\\n",
       "0            1.0       0.041296       0.003551       0.027470       0.013158   \n",
       "1            1.0      -0.000720       0.013283       0.029450       0.045201   \n",
       "2            1.0       0.005201       0.013363       0.025733       0.026653   \n",
       "3            1.0       0.022926       0.027036       0.011668       0.019500   \n",
       "4            1.0       0.004897       0.016985       0.003485       0.006491   \n",
       "\n",
       "   5.3276844e-02  4.1576200e-02  3.0947384e-02  2.7085506e-02  1.3763773e-02  \\\n",
       "0       0.009571       0.008074       0.043743       0.040592       0.012190   \n",
       "1       0.006317       0.018805       0.028901       0.013832       0.015240   \n",
       "2       0.038946       0.012494       0.028303       0.032011       0.009467   \n",
       "3       0.036049      -0.001297       0.019717       0.039583       0.020628   \n",
       "4       0.028674       0.005622       0.006906       0.011857       0.022167   \n",
       "\n",
       "   ...  2.4574725e-02  3.3780034e-02  2.6588896e-02  1.3932152e-02  \\\n",
       "0  ...       0.060539       0.046991       0.023586       0.001562   \n",
       "1  ...       0.016442       0.039508       0.015171       0.034708   \n",
       "2  ...       0.006383       0.037448       0.044335       0.011143   \n",
       "3  ...       0.026997       0.036653       0.018117       0.018314   \n",
       "4  ...       0.041374       0.030726       0.042439       0.013007   \n",
       "\n",
       "   2.4928126e-02  2.2589026e-02  3.8248000e-02  4.9837783e-02  5.3419439e-02  \\\n",
       "0      -0.002196       0.036730       0.039027       0.007754       0.004697   \n",
       "1       0.010835       0.002942       0.006924       0.029502       0.040786   \n",
       "2      -0.003624       0.001467       0.020991       0.027675       0.001621   \n",
       "3       0.012536       0.040599       0.016590       0.032730       0.002498   \n",
       "4       0.034942       0.026134       0.037174       0.025711       0.034479   \n",
       "\n",
       "   4.0420371e-02  \n",
       "0       0.031440  \n",
       "1       0.023144  \n",
       "2       0.015858  \n",
       "3       0.011260  \n",
       "4       0.028682  \n",
       "\n",
       "[5 rows x 151 columns]"
      ]
     },
     "execution_count": 11,
     "metadata": {},
     "output_type": "execute_result"
    }
   ],
   "source": [
    "umd.head()"
   ]
  },
  {
   "cell_type": "markdown",
   "id": "58ed5255",
   "metadata": {},
   "source": [
    "#### Identify the first column to pop with its values into the y variable."
   ]
  },
  {
   "cell_type": "code",
   "execution_count": 12,
   "id": "b74fc5d7",
   "metadata": {},
   "outputs": [
    {
     "data": {
      "text/plain": [
       "'1.0000000e+00'"
      ]
     },
     "execution_count": 12,
     "metadata": {},
     "output_type": "execute_result"
    }
   ],
   "source": [
    "umd.columns[0]"
   ]
  },
  {
   "cell_type": "code",
   "execution_count": 13,
   "id": "61f4e7e9",
   "metadata": {},
   "outputs": [
    {
     "data": {
      "text/plain": [
       "(numpy.ndarray, numpy.ndarray)"
      ]
     },
     "execution_count": 13,
     "metadata": {},
     "output_type": "execute_result"
    }
   ],
   "source": [
    "y = umd.pop('1.0000000e+00').values\n",
    "X = umd.values\n",
    "type(X), type(y)"
   ]
  },
  {
   "cell_type": "code",
   "execution_count": 14,
   "id": "cebe244c",
   "metadata": {},
   "outputs": [
    {
     "data": {
      "text/plain": [
       "(143,)"
      ]
     },
     "execution_count": 14,
     "metadata": {},
     "output_type": "execute_result"
    }
   ],
   "source": [
    "y.shape"
   ]
  },
  {
   "cell_type": "code",
   "execution_count": 15,
   "id": "a70c1b46",
   "metadata": {},
   "outputs": [
    {
     "data": {
      "text/plain": [
       "(143, 150)"
      ]
     },
     "execution_count": 15,
     "metadata": {},
     "output_type": "execute_result"
    }
   ],
   "source": [
    "X.shape"
   ]
  },
  {
   "cell_type": "markdown",
   "id": "3f02093f",
   "metadata": {},
   "source": [
    "#### In the below step we will split the dataset forming a test set that is 33% of the UMD_Test set as well at randomised in selection for the test set"
   ]
  },
  {
   "cell_type": "code",
   "execution_count": 16,
   "id": "1557e8e1",
   "metadata": {},
   "outputs": [],
   "source": [
    "X_train, X_test, y_train, y_test = train_test_split(X, y, test_size=0.33, random_state=42)"
   ]
  },
  {
   "cell_type": "code",
   "execution_count": 17,
   "id": "ef822e0c",
   "metadata": {},
   "outputs": [],
   "source": [
    "# using the KNeighboursClassifier we include the dtw function as a Metric to use for distance computation.\n",
    "kNN_3 = KNeighborsClassifier(n_neighbors=1, metric= lambda x,y: dtw(x,y,3))  \n",
    "kNN_3.fit(X_train, y_train)\n",
    "y_pred_3 = kNN_3.predict(X_test)"
   ]
  },
  {
   "cell_type": "code",
   "execution_count": 18,
   "id": "76bbb648",
   "metadata": {},
   "outputs": [
    {
     "data": {
      "text/plain": [
       "array([3., 1., 2., 3., 3., 1., 3., 2., 2., 3., 2., 2., 2., 2., 3., 2., 1.,\n",
       "       2., 3., 2., 1., 3., 3., 3., 1., 1., 1., 1., 1., 3., 2., 3., 1., 1.,\n",
       "       1., 2., 3., 1., 3., 3., 3., 2., 1., 2., 1., 1., 3., 1.])"
      ]
     },
     "execution_count": 18,
     "metadata": {},
     "output_type": "execute_result"
    }
   ],
   "source": [
    "y_pred_3"
   ]
  },
  {
   "cell_type": "code",
   "execution_count": 19,
   "id": "96dd4f4d",
   "metadata": {},
   "outputs": [
    {
     "data": {
      "text/plain": [
       "0.875"
      ]
     },
     "execution_count": 19,
     "metadata": {},
     "output_type": "execute_result"
    }
   ],
   "source": [
    "acc1 = kNN_3.score(X_test, y_test)\n",
    "acc1"
   ]
  },
  {
   "cell_type": "code",
   "execution_count": 20,
   "id": "4c4c3cb2",
   "metadata": {},
   "outputs": [],
   "source": [
    "kNN_0 = KNeighborsClassifier(n_neighbors=1, metric= lambda x,y: dtw(x,y,0))  \n",
    "kNN_0.fit(X_train, y_train)\n",
    "y_pred_0 = kNN_0.predict(X_test)"
   ]
  },
  {
   "cell_type": "code",
   "execution_count": 21,
   "id": "5411622c",
   "metadata": {},
   "outputs": [
    {
     "data": {
      "text/plain": [
       "array([3., 1., 2., 3., 3., 1., 3., 2., 2., 1., 2., 2., 2., 2., 3., 2., 1.,\n",
       "       2., 3., 2., 1., 3., 3., 3., 1., 1., 1., 1., 1., 3., 2., 3., 1., 1.,\n",
       "       3., 2., 3., 1., 3., 2., 3., 2., 1., 2., 1., 1., 3., 2.])"
      ]
     },
     "execution_count": 21,
     "metadata": {},
     "output_type": "execute_result"
    }
   ],
   "source": [
    "y_pred_0"
   ]
  },
  {
   "cell_type": "code",
   "execution_count": 22,
   "id": "bf6d3771",
   "metadata": {},
   "outputs": [
    {
     "data": {
      "text/plain": [
       "0.8333333333333334"
      ]
     },
     "execution_count": 22,
     "metadata": {},
     "output_type": "execute_result"
    }
   ],
   "source": [
    "acc0 = kNN_0.score(X_test, y_test)\n",
    "acc0"
   ]
  },
  {
   "cell_type": "code",
   "execution_count": 23,
   "id": "251aae87",
   "metadata": {},
   "outputs": [],
   "source": [
    "kNN_1 = KNeighborsClassifier(n_neighbors=1, metric= lambda x,y: dtw(x,y,1))  \n",
    "kNN_1.fit(X_train, y_train)\n",
    "y_pred_1 = kNN_1.predict(X_test)"
   ]
  },
  {
   "cell_type": "code",
   "execution_count": 24,
   "id": "fc727ef8",
   "metadata": {},
   "outputs": [
    {
     "data": {
      "text/plain": [
       "array([3., 1., 2., 3., 3., 1., 3., 2., 2., 1., 2., 2., 2., 2., 3., 2., 1.,\n",
       "       2., 3., 2., 1., 3., 3., 3., 1., 1., 1., 1., 1., 3., 2., 3., 1., 1.,\n",
       "       3., 2., 3., 1., 3., 2., 3., 2., 1., 2., 1., 1., 3., 2.])"
      ]
     },
     "execution_count": 24,
     "metadata": {},
     "output_type": "execute_result"
    }
   ],
   "source": [
    "y_pred_1"
   ]
  },
  {
   "cell_type": "code",
   "execution_count": 25,
   "id": "f50d8367",
   "metadata": {},
   "outputs": [
    {
     "data": {
      "text/plain": [
       "0.8333333333333334"
      ]
     },
     "execution_count": 25,
     "metadata": {},
     "output_type": "execute_result"
    }
   ],
   "source": [
    "acc1 = kNN_1.score(X_test, y_test)\n",
    "acc1 "
   ]
  },
  {
   "cell_type": "markdown",
   "id": "afb09917",
   "metadata": {},
   "source": [
    "# Hence we can see that the window value of 3 has the more accurate score in comparison to DTW with window value 0 and 1."
   ]
  },
  {
   "cell_type": "code",
   "execution_count": 26,
   "id": "c9aba4e0",
   "metadata": {},
   "outputs": [
    {
     "data": {
      "text/plain": [
       "array([3., 1., 2., 3., 2., 1., 3., 2., 2., 1., 3., 2., 2., 3., 3., 2., 1.,\n",
       "       2., 3., 2., 1., 3., 3., 3., 2., 1., 1., 1., 1., 3., 1., 3., 1., 1.,\n",
       "       3., 2., 3., 1., 3., 3., 3., 2., 1., 2., 1., 2., 2., 2.])"
      ]
     },
     "execution_count": 26,
     "metadata": {},
     "output_type": "execute_result"
    }
   ],
   "source": [
    "kNN_P2 = KNeighborsClassifier(n_neighbors=1, p=2, metric='minkowski')\n",
    "kNN_P2.fit(X_train, y_train)\n",
    "y_pred_P2 = kNN_P2.predict(X_test)\n",
    "y_pred_P2"
   ]
  },
  {
   "cell_type": "code",
   "execution_count": 27,
   "id": "560d2e50",
   "metadata": {},
   "outputs": [
    {
     "data": {
      "text/plain": [
       "0.9166666666666666"
      ]
     },
     "execution_count": 27,
     "metadata": {},
     "output_type": "execute_result"
    }
   ],
   "source": [
    "accP2 = kNN_P2.score(X_test, y_test)\n",
    "accP2 "
   ]
  },
  {
   "cell_type": "markdown",
   "id": "f9e8bf93",
   "metadata": {},
   "source": [
    "#### Hence we can see that the Eucledian distance ( P=2 ) not only perfroms quicker but has a higher accuracy score of 92% in comparison to the accuracy score of the best DTW option being window = 3 (and below; 2, 1 and 0) . But the DTW approach gets more accurate the larger the window size. For example at size 5 it records an accuracy score of 98%"
   ]
  },
  {
   "cell_type": "code",
   "execution_count": 28,
   "id": "96cd9986",
   "metadata": {},
   "outputs": [
    {
     "data": {
      "text/plain": [
       "array([3., 1., 2., 3., 3., 1., 3., 2., 2., 1., 2., 2., 2., 2., 3., 2., 1.,\n",
       "       2., 3., 2., 1., 3., 3., 3., 1., 1., 1., 1., 1., 3., 2., 3., 1., 1.,\n",
       "       3., 2., 3., 1., 3., 2., 3., 2., 1., 2., 1., 1., 3., 2.])"
      ]
     },
     "execution_count": 28,
     "metadata": {},
     "output_type": "execute_result"
    }
   ],
   "source": [
    "kNN_5 = KNeighborsClassifier(n_neighbors=1, metric= lambda x,y: dtw(x,y,5))  \n",
    "kNN_5.fit(X_train, y_train)\n",
    "y_pred_5 = kNN_5.predict(X_test)\n",
    "y_pred_1"
   ]
  },
  {
   "cell_type": "code",
   "execution_count": 29,
   "id": "8807e9fa",
   "metadata": {},
   "outputs": [
    {
     "data": {
      "text/plain": [
       "0.9791666666666666"
      ]
     },
     "execution_count": 29,
     "metadata": {},
     "output_type": "execute_result"
    }
   ],
   "source": [
    "acc5 = kNN_5.score(X_test, y_test)\n",
    "acc5 "
   ]
  }
 ],
 "metadata": {
  "kernelspec": {
   "display_name": "Python 3 (ipykernel)",
   "language": "python",
   "name": "python3"
  },
  "language_info": {
   "codemirror_mode": {
    "name": "ipython",
    "version": 3
   },
   "file_extension": ".py",
   "mimetype": "text/x-python",
   "name": "python",
   "nbconvert_exporter": "python",
   "pygments_lexer": "ipython3",
   "version": "3.9.12"
  }
 },
 "nbformat": 4,
 "nbformat_minor": 5
}
